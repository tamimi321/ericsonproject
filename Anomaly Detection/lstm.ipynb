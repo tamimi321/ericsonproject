{
 "cells": [
  {
   "cell_type": "code",
   "execution_count": 1,
   "metadata": {},
   "outputs": [],
   "source": [
    "import pandas as pd \n",
    "import seaborn as sn \n",
    "import matplotlib.pyplot as plt \n",
    "import numpy as np \n",
    "from keras.models import Sequential\n",
    "from keras.layers import Dense, LSTM, Dropout\n",
    "from sklearn.model_selection import cross_val_score\n",
    "from sklearn.metrics import confusion_matrix\n",
    "from sklearn.metrics import accuracy_score\n",
    "from sklearn.metrics import classification_report\n",
    "from sklearn.metrics import confusion_matrix\n",
    "from sklearn.model_selection import train_test_split"
   ]
  },
  {
   "cell_type": "markdown",
   "metadata": {},
   "source": [
    "### Loading Dataset "
   ]
  },
  {
   "cell_type": "code",
   "execution_count": 2,
   "metadata": {},
   "outputs": [],
   "source": [
    "df_full_feature = pd.read_csv('../Dataset/Normalisasi/processed_dataset_10_norm.csv',sep=',')\n",
    "df_chi_square = pd.read_csv('../Dataset/Normalisasi/processed_dataset_chi_square_norm.csv', sep=',')\n",
    "df_feature_selection = pd.read_csv('../Dataset/Normalisasi/processed_dataset_5_norm.csv',sep=',')\n",
    "df_slice = pd.read_csv('../Dataset/Normalisasi/processed_dataset_slice_norm.csv',sep=',')"
   ]
  },
  {
   "cell_type": "markdown",
   "metadata": {},
   "source": [
    "### Splitting Variable"
   ]
  },
  {
   "cell_type": "code",
   "execution_count": 3,
   "metadata": {},
   "outputs": [
    {
     "data": {
      "text/html": [
       "<div>\n",
       "<style scoped>\n",
       "    .dataframe tbody tr th:only-of-type {\n",
       "        vertical-align: middle;\n",
       "    }\n",
       "\n",
       "    .dataframe tbody tr th {\n",
       "        vertical-align: top;\n",
       "    }\n",
       "\n",
       "    .dataframe thead th {\n",
       "        text-align: right;\n",
       "    }\n",
       "</style>\n",
       "<table border=\"1\" class=\"dataframe\">\n",
       "  <thead>\n",
       "    <tr style=\"text-align: right;\">\n",
       "      <th></th>\n",
       "      <th>src</th>\n",
       "      <th>dst</th>\n",
       "      <th>Protocol</th>\n",
       "      <th>pktrate</th>\n",
       "      <th>pktperflow</th>\n",
       "      <th>dur</th>\n",
       "      <th>dur_nsec</th>\n",
       "      <th>bytecount</th>\n",
       "      <th>pktcount</th>\n",
       "    </tr>\n",
       "  </thead>\n",
       "  <tbody>\n",
       "    <tr>\n",
       "      <th>0</th>\n",
       "      <td>0.055556</td>\n",
       "      <td>0.647059</td>\n",
       "      <td>0.0</td>\n",
       "      <td>0.000000</td>\n",
       "      <td>0.001511</td>\n",
       "      <td>0.522594</td>\n",
       "      <td>0.235235</td>\n",
       "      <td>0.000640</td>\n",
       "      <td>0.003696</td>\n",
       "    </tr>\n",
       "    <tr>\n",
       "      <th>1</th>\n",
       "      <td>0.333333</td>\n",
       "      <td>0.705882</td>\n",
       "      <td>0.5</td>\n",
       "      <td>0.799687</td>\n",
       "      <td>0.799583</td>\n",
       "      <td>0.204147</td>\n",
       "      <td>0.114114</td>\n",
       "      <td>0.081254</td>\n",
       "      <td>0.851453</td>\n",
       "    </tr>\n",
       "    <tr>\n",
       "      <th>2</th>\n",
       "      <td>0.555556</td>\n",
       "      <td>0.882353</td>\n",
       "      <td>0.0</td>\n",
       "      <td>0.001565</td>\n",
       "      <td>0.001563</td>\n",
       "      <td>0.436470</td>\n",
       "      <td>0.243243</td>\n",
       "      <td>0.000534</td>\n",
       "      <td>0.003081</td>\n",
       "    </tr>\n",
       "    <tr>\n",
       "      <th>3</th>\n",
       "      <td>0.833333</td>\n",
       "      <td>0.941176</td>\n",
       "      <td>0.5</td>\n",
       "      <td>0.516432</td>\n",
       "      <td>0.516884</td>\n",
       "      <td>0.052100</td>\n",
       "      <td>0.622623</td>\n",
       "      <td>0.014585</td>\n",
       "      <td>0.125043</td>\n",
       "    </tr>\n",
       "    <tr>\n",
       "      <th>4</th>\n",
       "      <td>0.111111</td>\n",
       "      <td>0.647059</td>\n",
       "      <td>1.0</td>\n",
       "      <td>0.428795</td>\n",
       "      <td>0.428504</td>\n",
       "      <td>0.152578</td>\n",
       "      <td>0.579580</td>\n",
       "      <td>0.618070</td>\n",
       "      <td>0.335646</td>\n",
       "    </tr>\n",
       "  </tbody>\n",
       "</table>\n",
       "</div>"
      ],
      "text/plain": [
       "        src       dst  Protocol   pktrate  pktperflow       dur  dur_nsec  \\\n",
       "0  0.055556  0.647059       0.0  0.000000    0.001511  0.522594  0.235235   \n",
       "1  0.333333  0.705882       0.5  0.799687    0.799583  0.204147  0.114114   \n",
       "2  0.555556  0.882353       0.0  0.001565    0.001563  0.436470  0.243243   \n",
       "3  0.833333  0.941176       0.5  0.516432    0.516884  0.052100  0.622623   \n",
       "4  0.111111  0.647059       1.0  0.428795    0.428504  0.152578  0.579580   \n",
       "\n",
       "   bytecount  pktcount  \n",
       "0   0.000640  0.003696  \n",
       "1   0.081254  0.851453  \n",
       "2   0.000534  0.003081  \n",
       "3   0.014585  0.125043  \n",
       "4   0.618070  0.335646  "
      ]
     },
     "execution_count": 3,
     "metadata": {},
     "output_type": "execute_result"
    }
   ],
   "source": [
    "# Dataset Full Feature\n",
    "full_feature_x = df_full_feature[df_full_feature.columns[:9]]\n",
    "full_feature_y = df_full_feature['label']\n",
    "\n",
    "full_feature_x.head(5)"
   ]
  },
  {
   "cell_type": "code",
   "execution_count": 4,
   "metadata": {},
   "outputs": [
    {
     "data": {
      "text/html": [
       "<div>\n",
       "<style scoped>\n",
       "    .dataframe tbody tr th:only-of-type {\n",
       "        vertical-align: middle;\n",
       "    }\n",
       "\n",
       "    .dataframe tbody tr th {\n",
       "        vertical-align: top;\n",
       "    }\n",
       "\n",
       "    .dataframe thead th {\n",
       "        text-align: right;\n",
       "    }\n",
       "</style>\n",
       "<table border=\"1\" class=\"dataframe\">\n",
       "  <thead>\n",
       "    <tr style=\"text-align: right;\">\n",
       "      <th></th>\n",
       "      <th>dst</th>\n",
       "      <th>src</th>\n",
       "      <th>Protocol</th>\n",
       "      <th>pktcount</th>\n",
       "      <th>pktcount.1</th>\n",
       "    </tr>\n",
       "  </thead>\n",
       "  <tbody>\n",
       "    <tr>\n",
       "      <th>0</th>\n",
       "      <td>0.647059</td>\n",
       "      <td>0.055556</td>\n",
       "      <td>0.0</td>\n",
       "      <td>0.003696</td>\n",
       "      <td>0.003696</td>\n",
       "    </tr>\n",
       "    <tr>\n",
       "      <th>1</th>\n",
       "      <td>0.705882</td>\n",
       "      <td>0.333333</td>\n",
       "      <td>0.5</td>\n",
       "      <td>0.851453</td>\n",
       "      <td>0.851453</td>\n",
       "    </tr>\n",
       "    <tr>\n",
       "      <th>2</th>\n",
       "      <td>0.882353</td>\n",
       "      <td>0.555556</td>\n",
       "      <td>0.0</td>\n",
       "      <td>0.003081</td>\n",
       "      <td>0.003081</td>\n",
       "    </tr>\n",
       "    <tr>\n",
       "      <th>3</th>\n",
       "      <td>0.941176</td>\n",
       "      <td>0.833333</td>\n",
       "      <td>0.5</td>\n",
       "      <td>0.125043</td>\n",
       "      <td>0.125043</td>\n",
       "    </tr>\n",
       "    <tr>\n",
       "      <th>4</th>\n",
       "      <td>0.647059</td>\n",
       "      <td>0.111111</td>\n",
       "      <td>1.0</td>\n",
       "      <td>0.335646</td>\n",
       "      <td>0.335646</td>\n",
       "    </tr>\n",
       "  </tbody>\n",
       "</table>\n",
       "</div>"
      ],
      "text/plain": [
       "        dst       src  Protocol  pktcount  pktcount.1\n",
       "0  0.647059  0.055556       0.0  0.003696    0.003696\n",
       "1  0.705882  0.333333       0.5  0.851453    0.851453\n",
       "2  0.882353  0.555556       0.0  0.003081    0.003081\n",
       "3  0.941176  0.833333       0.5  0.125043    0.125043\n",
       "4  0.647059  0.111111       1.0  0.335646    0.335646"
      ]
     },
     "execution_count": 4,
     "metadata": {},
     "output_type": "execute_result"
    }
   ],
   "source": [
    "# Dataset Chi Square \n",
    "chi_square_x = df_chi_square[df_chi_square.columns[:5]]\n",
    "chi_square_y = df_chi_square['label']\n",
    "\n",
    "chi_square_x.head(5)"
   ]
  },
  {
   "cell_type": "code",
   "execution_count": 5,
   "metadata": {},
   "outputs": [
    {
     "data": {
      "text/html": [
       "<div>\n",
       "<style scoped>\n",
       "    .dataframe tbody tr th:only-of-type {\n",
       "        vertical-align: middle;\n",
       "    }\n",
       "\n",
       "    .dataframe tbody tr th {\n",
       "        vertical-align: top;\n",
       "    }\n",
       "\n",
       "    .dataframe thead th {\n",
       "        text-align: right;\n",
       "    }\n",
       "</style>\n",
       "<table border=\"1\" class=\"dataframe\">\n",
       "  <thead>\n",
       "    <tr style=\"text-align: right;\">\n",
       "      <th></th>\n",
       "      <th>pktrate</th>\n",
       "      <th>pktperflow</th>\n",
       "      <th>Protocol</th>\n",
       "      <th>src</th>\n",
       "      <th>dst</th>\n",
       "    </tr>\n",
       "  </thead>\n",
       "  <tbody>\n",
       "    <tr>\n",
       "      <th>0</th>\n",
       "      <td>0.000000</td>\n",
       "      <td>0.001511</td>\n",
       "      <td>0.0</td>\n",
       "      <td>0.055556</td>\n",
       "      <td>0.647059</td>\n",
       "    </tr>\n",
       "    <tr>\n",
       "      <th>1</th>\n",
       "      <td>0.799687</td>\n",
       "      <td>0.799583</td>\n",
       "      <td>0.5</td>\n",
       "      <td>0.333333</td>\n",
       "      <td>0.705882</td>\n",
       "    </tr>\n",
       "    <tr>\n",
       "      <th>2</th>\n",
       "      <td>0.001565</td>\n",
       "      <td>0.001563</td>\n",
       "      <td>0.0</td>\n",
       "      <td>0.555556</td>\n",
       "      <td>0.882353</td>\n",
       "    </tr>\n",
       "    <tr>\n",
       "      <th>3</th>\n",
       "      <td>0.516432</td>\n",
       "      <td>0.516884</td>\n",
       "      <td>0.5</td>\n",
       "      <td>0.833333</td>\n",
       "      <td>0.941176</td>\n",
       "    </tr>\n",
       "    <tr>\n",
       "      <th>4</th>\n",
       "      <td>0.428795</td>\n",
       "      <td>0.428504</td>\n",
       "      <td>1.0</td>\n",
       "      <td>0.111111</td>\n",
       "      <td>0.647059</td>\n",
       "    </tr>\n",
       "  </tbody>\n",
       "</table>\n",
       "</div>"
      ],
      "text/plain": [
       "    pktrate  pktperflow  Protocol       src       dst\n",
       "0  0.000000    0.001511       0.0  0.055556  0.647059\n",
       "1  0.799687    0.799583       0.5  0.333333  0.705882\n",
       "2  0.001565    0.001563       0.0  0.555556  0.882353\n",
       "3  0.516432    0.516884       0.5  0.833333  0.941176\n",
       "4  0.428795    0.428504       1.0  0.111111  0.647059"
      ]
     },
     "execution_count": 5,
     "metadata": {},
     "output_type": "execute_result"
    }
   ],
   "source": [
    "# Dataset Feature Selection\n",
    "feature_selection_x = df_feature_selection[df_feature_selection.columns[:5]]\n",
    "feature_selection_y = df_feature_selection['label']\n",
    "\n",
    "feature_selection_x.head(5)"
   ]
  },
  {
   "cell_type": "code",
   "execution_count": 6,
   "metadata": {},
   "outputs": [
    {
     "data": {
      "text/html": [
       "<div>\n",
       "<style scoped>\n",
       "    .dataframe tbody tr th:only-of-type {\n",
       "        vertical-align: middle;\n",
       "    }\n",
       "\n",
       "    .dataframe tbody tr th {\n",
       "        vertical-align: top;\n",
       "    }\n",
       "\n",
       "    .dataframe thead th {\n",
       "        text-align: right;\n",
       "    }\n",
       "</style>\n",
       "<table border=\"1\" class=\"dataframe\">\n",
       "  <thead>\n",
       "    <tr style=\"text-align: right;\">\n",
       "      <th></th>\n",
       "      <th>dst</th>\n",
       "      <th>src</th>\n",
       "      <th>Protocol</th>\n",
       "      <th>bytecount</th>\n",
       "    </tr>\n",
       "  </thead>\n",
       "  <tbody>\n",
       "    <tr>\n",
       "      <th>0</th>\n",
       "      <td>0.647059</td>\n",
       "      <td>0.055556</td>\n",
       "      <td>0.0</td>\n",
       "      <td>0.000640</td>\n",
       "    </tr>\n",
       "    <tr>\n",
       "      <th>1</th>\n",
       "      <td>0.705882</td>\n",
       "      <td>0.333333</td>\n",
       "      <td>0.5</td>\n",
       "      <td>0.081254</td>\n",
       "    </tr>\n",
       "    <tr>\n",
       "      <th>2</th>\n",
       "      <td>0.882353</td>\n",
       "      <td>0.555556</td>\n",
       "      <td>0.0</td>\n",
       "      <td>0.000534</td>\n",
       "    </tr>\n",
       "    <tr>\n",
       "      <th>3</th>\n",
       "      <td>0.941176</td>\n",
       "      <td>0.833333</td>\n",
       "      <td>0.5</td>\n",
       "      <td>0.014585</td>\n",
       "    </tr>\n",
       "    <tr>\n",
       "      <th>4</th>\n",
       "      <td>0.647059</td>\n",
       "      <td>0.111111</td>\n",
       "      <td>1.0</td>\n",
       "      <td>0.618070</td>\n",
       "    </tr>\n",
       "  </tbody>\n",
       "</table>\n",
       "</div>"
      ],
      "text/plain": [
       "        dst       src  Protocol  bytecount\n",
       "0  0.647059  0.055556       0.0   0.000640\n",
       "1  0.705882  0.333333       0.5   0.081254\n",
       "2  0.882353  0.555556       0.0   0.000534\n",
       "3  0.941176  0.833333       0.5   0.014585\n",
       "4  0.647059  0.111111       1.0   0.618070"
      ]
     },
     "execution_count": 6,
     "metadata": {},
     "output_type": "execute_result"
    }
   ],
   "source": [
    "# Dataset Slice\n",
    "slice_x = df_slice[df_slice.columns[:4]]\n",
    "slice_y= df_slice['label']\n",
    "\n",
    "slice_x.head(5)"
   ]
  },
  {
   "cell_type": "markdown",
   "metadata": {},
   "source": [
    "### Full Model "
   ]
  },
  {
   "cell_type": "code",
   "execution_count": 7,
   "metadata": {},
   "outputs": [
    {
     "data": {
      "text/plain": [
       "(50540, 9, 1)"
      ]
     },
     "execution_count": 7,
     "metadata": {},
     "output_type": "execute_result"
    }
   ],
   "source": [
    "#Splitting Data \n",
    "\n",
    "x_train,x_test,y_train,y_test = train_test_split(full_feature_x,full_feature_y,test_size=0.30,random_state=9)\n",
    "\n",
    "x_train = x_train.to_numpy()\n",
    "x_test = x_test.to_numpy()\n",
    "x_train = np.reshape(x_train, (x_train.shape[0], x_train.shape[1], 1))\n",
    "x_test = np.reshape(x_test, (x_test.shape[0], x_test.shape[1], 1))\n",
    "x_train.shape\n"
   ]
  },
  {
   "cell_type": "code",
   "execution_count": 8,
   "metadata": {},
   "outputs": [
    {
     "name": "stdout",
     "output_type": "stream",
     "text": [
      "Epoch 1/10\n",
      "1580/1580 [==============================] - 20s 11ms/step - loss: 0.5913 - accuracy: 0.6787 - mean_squared_error: 0.3256 - mean_absolute_error: 0.4621\n",
      "Epoch 2/10\n",
      "1580/1580 [==============================] - 15s 10ms/step - loss: 0.2209 - accuracy: 0.9053 - mean_squared_error: 0.4158 - mean_absolute_error: 0.4637\n",
      "Epoch 3/10\n",
      "1580/1580 [==============================] - 18s 12ms/step - loss: 0.1808 - accuracy: 0.9193 - mean_squared_error: 0.4264 - mean_absolute_error: 0.4631\n",
      "Epoch 4/10\n",
      "1580/1580 [==============================] - 16s 10ms/step - loss: 0.1723 - accuracy: 0.9223 - mean_squared_error: 0.4281 - mean_absolute_error: 0.4635\n",
      "Epoch 5/10\n",
      "1580/1580 [==============================] - 17s 11ms/step - loss: 0.1660 - accuracy: 0.9248 - mean_squared_error: 0.4298 - mean_absolute_error: 0.4635 3s - loss: 0.1660 - accuracy: 0.9248 - \n",
      "Epoch 6/10\n",
      "1580/1580 [==============================] - 18s 11ms/step - loss: 0.1615 - accuracy: 0.9269 - mean_squared_error: 0.4317 - mean_absolute_error: 0.4646\n",
      "Epoch 7/10\n",
      "1580/1580 [==============================] - 20s 12ms/step - loss: 0.1558 - accuracy: 0.9297 - mean_squared_error: 0.4310 - mean_absolute_error: 0.4631\n",
      "Epoch 8/10\n",
      "1580/1580 [==============================] - 19s 12ms/step - loss: 0.1494 - accuracy: 0.9332 - mean_squared_error: 0.4323 - mean_absolute_error: 0.4630 2s - loss: 0.1493 - accuracy: 0.9331 - mean_squared\n",
      "Epoch 9/10\n",
      "1580/1580 [==============================] - 20s 13ms/step - loss: 0.1451 - accuracy: 0.9363 - mean_squared_error: 0.4336 - mean_absolute_error: 0.4634 1s - loss: 0.1453 - accuracy: 0.9362 - mean_squared_error: 0.4335 -\n",
      "Epoch 10/10\n",
      "1580/1580 [==============================] - 19s 12ms/step - loss: 0.1402 - accuracy: 0.9387 - mean_squared_error: 0.4343 - mean_absolute_error: 0.4631 5s \n"
     ]
    },
    {
     "data": {
      "text/plain": [
       "<tensorflow.python.keras.callbacks.History at 0x2224e2ad088>"
      ]
     },
     "execution_count": 8,
     "metadata": {},
     "output_type": "execute_result"
    }
   ],
   "source": [
    "model_full = Sequential()\n",
    "model_full.add(LSTM(100, input_shape=(x_train.shape[1],1), return_sequences=True))\n",
    "model_full.add(Dropout(0.5))\n",
    "model_full.add(LSTM(32, return_sequences=False))\n",
    "model_full.add(Dense(10, activation='relu'))\n",
    "model_full.add(Dense(3, activation='softmax'))\n",
    "\n",
    "model_full.compile(optimizer=\"adam\",loss=\"sparse_categorical_crossentropy\", metrics=['accuracy','MeanSquaredError', 'MeanAbsoluteError'])\n",
    "model_full.fit(x_train, y_train, epochs=10)\n"
   ]
  },
  {
   "cell_type": "code",
   "execution_count": 9,
   "metadata": {},
   "outputs": [],
   "source": [
    "y_pred_train = model_full.predict(x_train)\n",
    "y_pred_test = model_full.predict(x_test)"
   ]
  },
  {
   "cell_type": "code",
   "execution_count": 10,
   "metadata": {},
   "outputs": [
    {
     "name": "stdout",
     "output_type": "stream",
     "text": [
      "[[29009  1780]\n",
      " [ 1129 18622]]\n",
      "              precision    recall  f1-score   support\n",
      "\n",
      "           0       0.96      0.94      0.95     30789\n",
      "           1       0.91      0.94      0.93     19751\n",
      "\n",
      "    accuracy                           0.94     50540\n",
      "   macro avg       0.94      0.94      0.94     50540\n",
      "weighted avg       0.94      0.94      0.94     50540\n",
      "\n",
      "Accuracy: 94.24416303917688\n"
     ]
    }
   ],
   "source": [
    "import warnings\n",
    "warnings.filterwarnings('ignore')\n",
    "y_pred_train = [np.argmax(element) for element in y_pred_train]\n",
    "print(confusion_matrix(y_train, y_pred_train))\n",
    "print(classification_report(y_train, y_pred_train))\n",
    "print(\"Accuracy:\",accuracy_score(y_train, y_pred_train)*100)\n"
   ]
  },
  {
   "cell_type": "code",
   "execution_count": 11,
   "metadata": {},
   "outputs": [
    {
     "name": "stdout",
     "output_type": "stream",
     "text": [
      "[[12441   789]\n",
      " [  489  7942]]\n",
      "              precision    recall  f1-score   support\n",
      "\n",
      "           0       0.96      0.94      0.95     13230\n",
      "           1       0.91      0.94      0.93      8431\n",
      "\n",
      "    accuracy                           0.94     21661\n",
      "   macro avg       0.94      0.94      0.94     21661\n",
      "weighted avg       0.94      0.94      0.94     21661\n",
      "\n",
      "Accuracy: 94.09999538340796\n"
     ]
    }
   ],
   "source": [
    "warnings.filterwarnings('ignore')\n",
    "y_pred_test = [np.argmax(element) for element in y_pred_test]\n",
    "print(confusion_matrix(y_test, y_pred_test))\n",
    "print(classification_report(y_test, y_pred_test))\n",
    "print(\"Accuracy:\",accuracy_score(y_test, y_pred_test)*100)"
   ]
  },
  {
   "cell_type": "code",
   "execution_count": 19,
   "metadata": {},
   "outputs": [],
   "source": [
    "# Save Model To Pickle\n",
    "\n",
    "model_full.save('lstm_full.h5')"
   ]
  },
  {
   "cell_type": "markdown",
   "metadata": {},
   "source": [
    "Belajar Lagi Mengenai Komponen LSTM dan Kemudian Mengenai Konsep Reshaping Dari LSTM"
   ]
  },
  {
   "cell_type": "markdown",
   "metadata": {},
   "source": [
    "## Model Chi"
   ]
  },
  {
   "cell_type": "code",
   "execution_count": 12,
   "metadata": {},
   "outputs": [
    {
     "data": {
      "text/plain": [
       "(50540, 5, 1)"
      ]
     },
     "execution_count": 12,
     "metadata": {},
     "output_type": "execute_result"
    }
   ],
   "source": [
    "#Splitting Data \n",
    "\n",
    "x_train,x_test,y_train,y_test = train_test_split(chi_square_x,chi_square_y,test_size=0.30,random_state=9)\n",
    "\n",
    "x_train = x_train.to_numpy()\n",
    "x_test = x_test.to_numpy()\n",
    "x_train = np.reshape(x_train, (x_train.shape[0], x_train.shape[1], 1))\n",
    "x_test = np.reshape(x_test, (x_test.shape[0], x_test.shape[1], 1))\n",
    "x_train.shape"
   ]
  },
  {
   "cell_type": "code",
   "execution_count": 14,
   "metadata": {},
   "outputs": [
    {
     "name": "stdout",
     "output_type": "stream",
     "text": [
      "Epoch 1/10\n",
      "1580/1580 [==============================] - 16s 9ms/step - loss: 0.6459 - accuracy: 0.6257 - mean_squared_error: 0.3133 - mean_absolute_error: 0.4628\n",
      "Epoch 2/10\n",
      "1580/1580 [==============================] - 14s 9ms/step - loss: 0.4755 - accuracy: 0.6886 - mean_squared_error: 0.3523 - mean_absolute_error: 0.4633: \n",
      "Epoch 3/10\n",
      "1580/1580 [==============================] - 13s 8ms/step - loss: 0.4280 - accuracy: 0.7434 - mean_squared_error: 0.3623 - mean_absolute_error: 0.4622\n",
      "Epoch 4/10\n",
      "1580/1580 [==============================] - 12s 8ms/step - loss: 0.4113 - accuracy: 0.7594 - mean_squared_error: 0.3687 - mean_absolute_error: 0.4646\n",
      "Epoch 5/10\n",
      "1580/1580 [==============================] - 12s 8ms/step - loss: 0.3956 - accuracy: 0.7669 - mean_squared_error: 0.3723 - mean_absolute_error: 0.4641\n",
      "Epoch 6/10\n",
      "1580/1580 [==============================] - 12s 7ms/step - loss: 0.3767 - accuracy: 0.7775 - mean_squared_error: 0.3775 - mean_absolute_error: 0.4642\n",
      "Epoch 7/10\n",
      "1580/1580 [==============================] - 13s 8ms/step - loss: 0.3688 - accuracy: 0.7829 - mean_squared_error: 0.3797 - mean_absolute_error: 0.4650\n",
      "Epoch 8/10\n",
      "1580/1580 [==============================] - 15s 9ms/step - loss: 0.3567 - accuracy: 0.7945 - mean_squared_error: 0.3806 - mean_absolute_error: 0.4631\n",
      "Epoch 9/10\n",
      "1580/1580 [==============================] - 15s 9ms/step - loss: 0.3524 - accuracy: 0.7966 - mean_squared_error: 0.3826 - mean_absolute_error: 0.4635\n",
      "Epoch 10/10\n",
      "1580/1580 [==============================] - 11s 7ms/step - loss: 0.3455 - accuracy: 0.8046 - mean_squared_error: 0.3846 - mean_absolute_error: 0.4640\n"
     ]
    },
    {
     "data": {
      "text/plain": [
       "<tensorflow.python.keras.callbacks.History at 0x2224e27e908>"
      ]
     },
     "execution_count": 14,
     "metadata": {},
     "output_type": "execute_result"
    }
   ],
   "source": [
    "model_chi = Sequential()\n",
    "model_chi.add(LSTM(100, input_shape=(x_train.shape[1],1), return_sequences=True))\n",
    "model_chi.add(Dropout(0.5))\n",
    "model_chi.add(LSTM(32, return_sequences=False))\n",
    "model_chi.add(Dense(10, activation='relu'))\n",
    "model_chi.add(Dense(3, activation='softmax'))\n",
    "\n",
    "model_chi.compile(optimizer=\"adam\",loss=\"sparse_categorical_crossentropy\", metrics=['accuracy','MeanSquaredError', 'MeanAbsoluteError'])\n",
    "model_chi.fit(x_train, y_train, epochs=10)\n"
   ]
  },
  {
   "cell_type": "code",
   "execution_count": 15,
   "metadata": {},
   "outputs": [],
   "source": [
    "y_pred_train = model_chi.predict(x_train)\n",
    "y_pred_test = model_chi.predict(x_test)"
   ]
  },
  {
   "cell_type": "code",
   "execution_count": 16,
   "metadata": {},
   "outputs": [
    {
     "name": "stdout",
     "output_type": "stream",
     "text": [
      "[[27525  3264]\n",
      " [ 6452 13299]]\n",
      "              precision    recall  f1-score   support\n",
      "\n",
      "           0       0.81      0.89      0.85     30789\n",
      "           1       0.80      0.67      0.73     19751\n",
      "\n",
      "    accuracy                           0.81     50540\n",
      "   macro avg       0.81      0.78      0.79     50540\n",
      "weighted avg       0.81      0.81      0.80     50540\n",
      "\n",
      "Accuracy: 80.77562326869806\n"
     ]
    }
   ],
   "source": [
    "import warnings\n",
    "warnings.filterwarnings('ignore')\n",
    "y_pred_train = [np.argmax(element) for element in y_pred_train]\n",
    "print(confusion_matrix(y_train, y_pred_train))\n",
    "print(classification_report(y_train, y_pred_train))\n",
    "print(\"Accuracy:\",accuracy_score(y_train, y_pred_train)*100)\n"
   ]
  },
  {
   "cell_type": "code",
   "execution_count": 17,
   "metadata": {},
   "outputs": [
    {
     "name": "stdout",
     "output_type": "stream",
     "text": [
      "[[11783  1447]\n",
      " [ 2799  5632]]\n",
      "              precision    recall  f1-score   support\n",
      "\n",
      "           0       0.81      0.89      0.85     13230\n",
      "           1       0.80      0.67      0.73      8431\n",
      "\n",
      "    accuracy                           0.80     21661\n",
      "   macro avg       0.80      0.78      0.79     21661\n",
      "weighted avg       0.80      0.80      0.80     21661\n",
      "\n",
      "Accuracy: 80.39795023313789\n"
     ]
    }
   ],
   "source": [
    "warnings.filterwarnings('ignore')\n",
    "y_pred_test = [np.argmax(element) for element in y_pred_test]\n",
    "print(confusion_matrix(y_test, y_pred_test))\n",
    "print(classification_report(y_test, y_pred_test))\n",
    "print(\"Accuracy:\",accuracy_score(y_test, y_pred_test)*100)"
   ]
  },
  {
   "cell_type": "code",
   "execution_count": 20,
   "metadata": {},
   "outputs": [],
   "source": [
    "model_chi.save('lstm_chi.h5')"
   ]
  },
  {
   "cell_type": "markdown",
   "metadata": {},
   "source": [
    "## Feature Selection"
   ]
  },
  {
   "cell_type": "code",
   "execution_count": 21,
   "metadata": {},
   "outputs": [
    {
     "data": {
      "text/plain": [
       "(50540, 5, 1)"
      ]
     },
     "execution_count": 21,
     "metadata": {},
     "output_type": "execute_result"
    }
   ],
   "source": [
    "#Splitting Data \n",
    "\n",
    "x_train,x_test,y_train,y_test = train_test_split(feature_selection_x,feature_selection_y,test_size=0.30,random_state=9)\n",
    "\n",
    "x_train = x_train.to_numpy()\n",
    "x_test = x_test.to_numpy()\n",
    "x_train = np.reshape(x_train, (x_train.shape[0], x_train.shape[1], 1))\n",
    "x_test = np.reshape(x_test, (x_test.shape[0], x_test.shape[1], 1))\n",
    "x_train.shape"
   ]
  },
  {
   "cell_type": "code",
   "execution_count": 22,
   "metadata": {},
   "outputs": [
    {
     "name": "stdout",
     "output_type": "stream",
     "text": [
      "Epoch 1/10\n",
      "1580/1580 [==============================] - 10s 5ms/step - loss: 0.5467 - accuracy: 0.7397 - mean_squared_error: 0.3395 - mean_absolute_error: 0.4627\n",
      "Epoch 2/10\n",
      "1580/1580 [==============================] - 11s 7ms/step - loss: 0.3694 - accuracy: 0.8549 - mean_squared_error: 0.3884 - mean_absolute_error: 0.4641\n",
      "Epoch 3/10\n",
      "1580/1580 [==============================] - 12s 7ms/step - loss: 0.3277 - accuracy: 0.8780 - mean_squared_error: 0.3988 - mean_absolute_error: 0.4636\n",
      "Epoch 4/10\n",
      "1580/1580 [==============================] - 12s 7ms/step - loss: 0.3132 - accuracy: 0.8881 - mean_squared_error: 0.4037 - mean_absolute_error: 0.4647\n",
      "Epoch 5/10\n",
      "1580/1580 [==============================] - 12s 7ms/step - loss: 0.2505 - accuracy: 0.9071 - mean_squared_error: 0.4122 - mean_absolute_error: 0.4620\n",
      "Epoch 6/10\n",
      "1580/1580 [==============================] - 13s 8ms/step - loss: 0.2373 - accuracy: 0.9077 - mean_squared_error: 0.4148 - mean_absolute_error: 0.4617: 1s - loss: 0.2374 - accuracy: 0.9076 - mean_squared_error: 0.4145 -\n",
      "Epoch 7/10\n",
      "1580/1580 [==============================] - 11s 7ms/step - loss: 0.2353 - accuracy: 0.9066 - mean_squared_error: 0.4165 - mean_absolute_error: 0.4634\n",
      "Epoch 8/10\n",
      "1580/1580 [==============================] - 12s 8ms/step - loss: 0.2271 - accuracy: 0.9088 - mean_squared_error: 0.4179 - mean_absolute_error: 0.4627\n",
      "Epoch 9/10\n",
      "1580/1580 [==============================] - 14s 9ms/step - loss: 0.2284 - accuracy: 0.9085 - mean_squared_error: 0.4183 - mean_absolute_error: 0.4639\n",
      "Epoch 10/10\n",
      "1580/1580 [==============================] - 14s 9ms/step - loss: 0.2228 - accuracy: 0.9110 - mean_squared_error: 0.4191 - mean_absolute_error: 0.4631\n"
     ]
    },
    {
     "data": {
      "text/plain": [
       "<tensorflow.python.keras.callbacks.History at 0x22261723ac8>"
      ]
     },
     "execution_count": 22,
     "metadata": {},
     "output_type": "execute_result"
    }
   ],
   "source": [
    "model_feature = Sequential()\n",
    "model_feature.add(LSTM(100, input_shape=(x_train.shape[1],1), return_sequences=True))\n",
    "model_feature.add(Dropout(0.5))\n",
    "model_feature.add(LSTM(32, return_sequences=False))\n",
    "model_feature.add(Dense(10, activation='relu'))\n",
    "model_feature.add(Dense(3, activation='softmax'))\n",
    "\n",
    "model_feature.compile(optimizer=\"adam\",loss=\"sparse_categorical_crossentropy\", metrics=['accuracy','MeanSquaredError', 'MeanAbsoluteError'])\n",
    "model_feature.fit(x_train, y_train, epochs=10)\n"
   ]
  },
  {
   "cell_type": "code",
   "execution_count": 24,
   "metadata": {},
   "outputs": [],
   "source": [
    "y_pred_train = model_feature.predict(x_train)\n",
    "y_pred_test = model_feature.predict(x_test)"
   ]
  },
  {
   "cell_type": "code",
   "execution_count": 25,
   "metadata": {},
   "outputs": [
    {
     "name": "stdout",
     "output_type": "stream",
     "text": [
      "[[27964  2825]\n",
      " [ 1828 17923]]\n",
      "              precision    recall  f1-score   support\n",
      "\n",
      "           0       0.94      0.91      0.92     30789\n",
      "           1       0.86      0.91      0.89     19751\n",
      "\n",
      "    accuracy                           0.91     50540\n",
      "   macro avg       0.90      0.91      0.90     50540\n",
      "weighted avg       0.91      0.91      0.91     50540\n",
      "\n",
      "Accuracy: 90.79343094578552\n"
     ]
    }
   ],
   "source": [
    "import warnings\n",
    "warnings.filterwarnings('ignore')\n",
    "y_pred_train = [np.argmax(element) for element in y_pred_train]\n",
    "print(confusion_matrix(y_train, y_pred_train))\n",
    "print(classification_report(y_train, y_pred_train))\n",
    "print(\"Accuracy:\",accuracy_score(y_train, y_pred_train)*100)\n"
   ]
  },
  {
   "cell_type": "code",
   "execution_count": 26,
   "metadata": {},
   "outputs": [
    {
     "name": "stdout",
     "output_type": "stream",
     "text": [
      "[[11997  1233]\n",
      " [  762  7669]]\n",
      "              precision    recall  f1-score   support\n",
      "\n",
      "           0       0.94      0.91      0.92     13230\n",
      "           1       0.86      0.91      0.88      8431\n",
      "\n",
      "    accuracy                           0.91     21661\n",
      "   macro avg       0.90      0.91      0.90     21661\n",
      "weighted avg       0.91      0.91      0.91     21661\n",
      "\n",
      "Accuracy: 90.7898988966345\n"
     ]
    }
   ],
   "source": [
    "warnings.filterwarnings('ignore')\n",
    "y_pred_test = [np.argmax(element) for element in y_pred_test]\n",
    "print(confusion_matrix(y_test, y_pred_test))\n",
    "print(classification_report(y_test, y_pred_test))\n",
    "print(\"Accuracy:\",accuracy_score(y_test, y_pred_test)*100)"
   ]
  },
  {
   "cell_type": "code",
   "execution_count": 27,
   "metadata": {},
   "outputs": [],
   "source": [
    "model_feature.save('lstm_feature.h5')"
   ]
  },
  {
   "cell_type": "markdown",
   "metadata": {},
   "source": [
    "## Slice Model"
   ]
  },
  {
   "cell_type": "code",
   "execution_count": 7,
   "metadata": {},
   "outputs": [
    {
     "data": {
      "text/plain": [
       "(50540, 4, 1)"
      ]
     },
     "execution_count": 7,
     "metadata": {},
     "output_type": "execute_result"
    }
   ],
   "source": [
    "#Splitting Data \n",
    "\n",
    "x_train,x_test,y_train,y_test = train_test_split(slice_x,slice_y,test_size=0.30,random_state=9)\n",
    "\n",
    "x_train = x_train.to_numpy()\n",
    "x_test = x_test.to_numpy()\n",
    "x_train = np.reshape(x_train, (x_train.shape[0], x_train.shape[1], 1))\n",
    "x_test = np.reshape(x_test, (x_test.shape[0], x_test.shape[1], 1))\n",
    "x_train.shape"
   ]
  },
  {
   "cell_type": "code",
   "execution_count": 9,
   "metadata": {},
   "outputs": [
    {
     "name": "stdout",
     "output_type": "stream",
     "text": [
      "Epoch 1/50\n",
      "1580/1580 [==============================] - 19s 8ms/step - loss: 0.5823 - accuracy: 0.6458 - mean_squared_error: 0.2913 - mean_absolute_error: 0.5000\n",
      "Epoch 2/50\n",
      "1580/1580 [==============================] - 13s 8ms/step - loss: 0.4326 - accuracy: 0.7413 - mean_squared_error: 0.3456 - mean_absolute_error: 0.5000\n",
      "Epoch 3/50\n",
      "1580/1580 [==============================] - 13s 8ms/step - loss: 0.4210 - accuracy: 0.7507 - mean_squared_error: 0.3502 - mean_absolute_error: 0.5000\n",
      "Epoch 4/50\n",
      "1580/1580 [==============================] - 12s 8ms/step - loss: 0.4123 - accuracy: 0.7571 - mean_squared_error: 0.3537 - mean_absolute_error: 0.5000\n",
      "Epoch 5/50\n",
      "1580/1580 [==============================] - 13s 8ms/step - loss: 0.4081 - accuracy: 0.7607 - mean_squared_error: 0.3555 - mean_absolute_error: 0.5000: 2s - loss: 0.4079 - accuracy: 0.7608 - mean_squared_e\n",
      "Epoch 6/50\n",
      "1580/1580 [==============================] - 12s 8ms/step - loss: 0.4074 - accuracy: 0.7609 - mean_squared_error: 0.3555 - mean_absolute_error: 0.5000\n",
      "Epoch 7/50\n",
      "1580/1580 [==============================] - 13s 8ms/step - loss: 0.4048 - accuracy: 0.7648 - mean_squared_error: 0.3562 - mean_absolute_error: 0.5000\n",
      "Epoch 8/50\n",
      "1580/1580 [==============================] - 17s 11ms/step - loss: 0.4042 - accuracy: 0.7620 - mean_squared_error: 0.3561 - mean_absolute_error: 0.5000 4s - loss: 0.4041 - accuracy: 0.7618 - mean_squared_e - ETA: 2s - loss: 0.4042 - accuracy: 0.7618 - mean_squared_erro\n",
      "Epoch 9/50\n",
      "1580/1580 [==============================] - 16s 10ms/step - loss: 0.4013 - accuracy: 0.7657 - mean_squared_error: 0.3575 - mean_absolute_error: 0.5000 4s - los\n",
      "Epoch 10/50\n",
      "1580/1580 [==============================] - 19s 12ms/step - loss: 0.4053 - accuracy: 0.7603 - mean_squared_error: 0.3564 - mean_absolute_error: 0.5000 2s - loss: 0.4057 - accuracy: 0.7598 - mean_squared_err - ETA: 0s - loss: 0.4053 - accuracy: 0.7603 - mean_squared_error: 0.3564 - mean_absolute_error: 0.50\n",
      "Epoch 11/50\n",
      "1580/1580 [==============================] - 16s 10ms/step - loss: 0.3980 - accuracy: 0.7688 - mean_squared_error: 0.3590 - mean_absolute_error: 0.5000\n",
      "Epoch 12/50\n",
      "1580/1580 [==============================] - 14s 9ms/step - loss: 0.4013 - accuracy: 0.7635 - mean_squared_error: 0.3573 - mean_absolute_error: 0.5000\n",
      "Epoch 13/50\n",
      "1580/1580 [==============================] - 19s 12ms/step - loss: 0.4034 - accuracy: 0.7605 - mean_squared_error: 0.3568 - mean_absolute_error: 0.5000 9s - loss: 0.4044 - - ETA: 5\n",
      "Epoch 14/50\n",
      "1580/1580 [==============================] - 17s 11ms/step - loss: 0.3998 - accuracy: 0.7623 - mean_squared_error: 0.3583 - mean_absolute_error: 0.5000 10s - loss: 0.4020 - accuracy: 0 - ETA: 3s - loss: 0.4003 - accuracy: 0.7617 - mean_square - ETA: 1s - loss: 0.4000 - accuracy: 0.7621 - mean_squared_error: 0.3583 - mean_absolute_error: 0.5 - ETA: 1s - loss: 0.4000 - accuracy: 0.7621 - mean_squared_error: 0.3583 - mean_\n",
      "Epoch 15/50\n",
      "1580/1580 [==============================] - 18s 12ms/step - loss: 0.3988 - accuracy: 0.7633 - mean_squared_error: 0.3588 - mean_absolute_error: 0.5000 7s - loss: 0.3989 - accuracy: 0.7631 - mean_squared_error: 0.3589 - mean_absol - ETA: 6s - loss: 0.3989 - accura - ETA: 2s - loss: 0.3989 - accuracy: 0.7632 - mean_squared\n",
      "Epoch 16/50\n",
      "1580/1580 [==============================] - 20s 12ms/step - loss: 0.3958 - accuracy: 0.7663 - mean_squared_error: 0.3599 - mean_absolute_error: 0.5000 6s - loss: 0.3954 - accuracy: 0.7662 - mean_squared_error: 0.3601 - mean_a\n",
      "Epoch 17/50\n",
      "1580/1580 [==============================] - 19s 12ms/step - loss: 0.3743 - accuracy: 0.7935 - mean_squared_error: 0.3671 - mean_absolute_error: 0.5000\n",
      "Epoch 18/50\n",
      "1580/1580 [==============================] - 18s 11ms/step - loss: 0.3616 - accuracy: 0.7971 - mean_squared_error: 0.3727 - mean_absolute_error: 0.5000 11s - loss: 0.3615 - accuracy: 0.7983 - mean_squared_error: 0.3727 - mean_absolute_error:  - ETA: 11s - loss: 0.3615 - accuracy: 0.7982 - mean_squared_error: 0. - ETA: 10s  - ETA: 4s - loss:\n",
      "Epoch 19/50\n",
      "1580/1580 [==============================] - 18s 12ms/step - loss: 0.3572 - accuracy: 0.8010 - mean_squared_error: 0.3742 - mean_absolute_error: 0.5000 8s - loss: 0.3586  - ETA: 3s - loss: 0.3580 - a\n",
      "Epoch 20/50\n",
      "1580/1580 [==============================] - 20s 13ms/step - loss: 0.3489 - accuracy: 0.8034 - mean_squared_error: 0.3767 - mean_absolute_error: 0.5000- ETA: 5s \n",
      "Epoch 21/50\n",
      "1580/1580 [==============================] - 15s 9ms/step - loss: 0.3408 - accuracy: 0.8121 - mean_squared_error: 0.3798 - mean_absolute_error: 0.5000: 1s - loss: 0.3412 - accuracy: 0.8117 - mean_squared_er\n",
      "Epoch 22/50\n",
      "1580/1580 [==============================] - 18s 11ms/step - loss: 0.3294 - accuracy: 0.8202 - mean_squared_error: 0.3835 - mean_absolute_error: 0.5000\n",
      "Epoch 23/50\n",
      "1580/1580 [==============================] - 20s 13ms/step - loss: 0.3197 - accuracy: 0.8246 - mean_squared_error: 0.3871 - mean_absolute_error: 0.5000 6s - loss: 0.3201 - accuracy: 0.8248 - mean_squared_error: 0.3867 - mean_absolute_e - \n",
      "Epoch 24/50\n",
      "1580/1580 [==============================] - 19s 12ms/step - loss: 0.3150 - accuracy: 0.8290 - mean_squared_error: 0.3898 - mean_absolute_error: 0.5000 4s - los\n",
      "Epoch 25/50\n",
      "1580/1580 [==============================] - 19s 12ms/step - loss: 0.3044 - accuracy: 0.8335 - mean_squared_error: 0.3941 - mean_absolute_error: 0.5000 9s - loss: 0.3054 - accuracy: 0.8340 - mean_squared_er\n",
      "Epoch 26/50\n",
      "1580/1580 [==============================] - 16s 10ms/step - loss: 0.2995 - accuracy: 0.8329 - mean_squared_error: 0.3957 - mean_absolute_error: 0.5000 1s - loss: 0.2995 - accuracy: 0.8330 - mean_squared_error: 0.3957 - m\n",
      "Epoch 27/50\n",
      "1580/1580 [==============================] - 21s 13ms/step - loss: 0.2959 - accuracy: 0.8385 - mean_squared_error: 0.3981 - mean_absolute_error: 0.5000 4s - loss: 0.2959 - accuracy: 0.8384 - mean_squared - ETA: 1s - loss: 0.2958 - accuracy: 0.8385 - mean_squared_error: 0.3981 - mea - ETA: 0s - loss: 0.2959 - accuracy: 0.8385 - mean_squared_error: 0.3981 - mean_absolute_error\n",
      "Epoch 28/50\n",
      "1580/1580 [==============================] - 20s 13ms/step - loss: 0.2950 - accuracy: 0.8382 - mean_squared_error: 0.3977 - mean_absolute_error: 0.5000 11s - loss: 0.2971 - accuracy: 0.8360 - mean_squared - ETA: 10s - loss: 0.2\n",
      "Epoch 29/50\n",
      "1580/1580 [==============================] - 19s 12ms/step - loss: 0.2952 - accuracy: 0.8385 - mean_squared_error: 0.3988 - mean_absolute_error: 0.5000\n",
      "Epoch 30/50\n",
      "1580/1580 [==============================] - 19s 12ms/step - loss: 0.2892 - accuracy: 0.8445 - mean_squared_error: 0.4012 - mean_absolute_error: 0.5000 2s - loss: 0.2895 - accuracy: 0.8445 - mean_squared\n",
      "Epoch 31/50\n",
      "1580/1580 [==============================] - 14s 9ms/step - loss: 0.2840 - accuracy: 0.8457 - mean_squared_error: 0.4027 - mean_absolute_error: 0.5000: 2s - loss: 0.2842 - accuracy: 0.8455 - mea\n",
      "Epoch 32/50\n",
      "1580/1580 [==============================] - 18s 11ms/step - loss: 0.2803 - accuracy: 0.8488 - mean_squared_error: 0.4037 - mean_absolute_error: 0.5000\n",
      "Epoch 33/50\n",
      "1580/1580 [==============================] - 15s 9ms/step - loss: 0.2840 - accuracy: 0.8485 - mean_squared_error: 0.4034 - mean_absolute_error: 0.5000\n",
      "Epoch 34/50\n",
      "1580/1580 [==============================] - 15s 9ms/step - loss: 0.2785 - accuracy: 0.8494 - mean_squared_error: 0.4051 - mean_absolute_error: 0.5000\n",
      "Epoch 35/50\n",
      "1580/1580 [==============================] - 15s 9ms/step - loss: 0.2776 - accuracy: 0.8494 - mean_squared_error: 0.4052 - mean_absolute_error: 0.5000: 7s - loss: 0.2781 - accuracy: 0.8487 - mean_s\n",
      "Epoch 36/50\n",
      "1580/1580 [==============================] - 13s 8ms/step - loss: 0.2705 - accuracy: 0.8554 - mean_squared_error: 0.4068 - mean_absolute_error: 0.5000\n",
      "Epoch 37/50\n",
      "1580/1580 [==============================] - 13s 8ms/step - loss: 0.2688 - accuracy: 0.8537 - mean_squared_error: 0.4076 - mean_absolute_error: 0.5000\n",
      "Epoch 38/50\n",
      "1580/1580 [==============================] - 13s 8ms/step - loss: 0.2652 - accuracy: 0.8568 - mean_squared_error: 0.4084 - mean_absolute_error: 0.5000\n",
      "Epoch 39/50\n",
      "1580/1580 [==============================] - 14s 9ms/step - loss: 0.2645 - accuracy: 0.8573 - mean_squared_error: 0.4091 - mean_absolute_error: 0.5000\n",
      "Epoch 40/50\n",
      "1580/1580 [==============================] - 13s 9ms/step - loss: 0.2631 - accuracy: 0.8578 - mean_squared_error: 0.4100 - mean_absolute_error: 0.5000\n",
      "Epoch 41/50\n",
      "1580/1580 [==============================] - 13s 8ms/step - loss: 0.2638 - accuracy: 0.8601 - mean_squared_error: 0.4093 - mean_absolute_error: 0.5000\n",
      "Epoch 42/50\n",
      "1580/1580 [==============================] - 13s 8ms/step - loss: 0.2626 - accuracy: 0.8579 - mean_squared_error: 0.4097 - mean_absolute_error: 0.5000\n",
      "Epoch 43/50\n",
      "1580/1580 [==============================] - 13s 8ms/step - loss: 0.2596 - accuracy: 0.8592 - mean_squared_error: 0.4112 - mean_absolute_error: 0.5000\n",
      "Epoch 44/50\n",
      "1580/1580 [==============================] - 13s 8ms/step - loss: 0.2510 - accuracy: 0.8651 - mean_squared_error: 0.4135 - mean_absolute_error: 0.5000\n",
      "Epoch 45/50\n",
      "1580/1580 [==============================] - 13s 8ms/step - loss: 0.2469 - accuracy: 0.8691 - mean_squared_error: 0.4145 - mean_absolute_error: 0.5000\n",
      "Epoch 46/50\n",
      "1580/1580 [==============================] - 13s 8ms/step - loss: 0.2625 - accuracy: 0.8579 - mean_squared_error: 0.4107 - mean_absolute_error: 0.5000\n",
      "Epoch 47/50\n",
      "1580/1580 [==============================] - 13s 8ms/step - loss: 0.2459 - accuracy: 0.8705 - mean_squared_error: 0.4158 - mean_absolute_error: 0.5000\n",
      "Epoch 48/50\n",
      "1580/1580 [==============================] - 9s 6ms/step - loss: 0.2459 - accuracy: 0.8686 - mean_squared_error: 0.4168 - mean_absolute_error: 0.5000\n",
      "Epoch 49/50\n",
      "1580/1580 [==============================] - 9s 6ms/step - loss: 0.2435 - accuracy: 0.8717 - mean_squared_error: 0.4170 - mean_absolute_error: 0.5000\n",
      "Epoch 50/50\n",
      "1580/1580 [==============================] - 10s 6ms/step - loss: 0.2417 - accuracy: 0.8710 - mean_squared_error: 0.4178 - mean_absolute_error: 0.5000\n"
     ]
    },
    {
     "data": {
      "text/plain": [
       "<tensorflow.python.keras.callbacks.History at 0x2b08b2d9188>"
      ]
     },
     "execution_count": 9,
     "metadata": {},
     "output_type": "execute_result"
    }
   ],
   "source": [
    "model_slice = Sequential()\n",
    "model_slice.add(LSTM(100, input_shape=(x_train.shape[1],1), return_sequences=True))\n",
    "model_slice.add(Dropout(0.5))\n",
    "model_slice.add(LSTM(32, return_sequences=False))\n",
    "model_slice.add(Dense(10, activation='relu'))\n",
    "model_slice.add(Dense(2, activation='softmax'))\n",
    "#model_slice.add(Dense(3, activation='softmax'))\n",
    "\n",
    "model_slice.compile(optimizer=\"adam\",loss=\"sparse_categorical_crossentropy\", metrics=['accuracy','MeanSquaredError', 'MeanAbsoluteError'])\n",
    "model_slice.fit(x_train, y_train, epochs=50)\n"
   ]
  },
  {
   "cell_type": "code",
   "execution_count": 10,
   "metadata": {},
   "outputs": [],
   "source": [
    "y_pred_train = model_slice.predict(x_train)\n",
    "y_pred_test = model_slice.predict(x_test)"
   ]
  },
  {
   "cell_type": "code",
   "execution_count": 11,
   "metadata": {},
   "outputs": [
    {
     "name": "stdout",
     "output_type": "stream",
     "text": [
      "[[27068  3721]\n",
      " [ 2054 17697]]\n",
      "              precision    recall  f1-score   support\n",
      "\n",
      "           0       0.93      0.88      0.90     30789\n",
      "           1       0.83      0.90      0.86     19751\n",
      "\n",
      "    accuracy                           0.89     50540\n",
      "   macro avg       0.88      0.89      0.88     50540\n",
      "weighted avg       0.89      0.89      0.89     50540\n",
      "\n",
      "Accuracy: 88.57340720221607\n"
     ]
    }
   ],
   "source": [
    "import warnings\n",
    "warnings.filterwarnings('ignore')\n",
    "y_pred_train = [np.argmax(element) for element in y_pred_train]\n",
    "print(confusion_matrix(y_train, y_pred_train))\n",
    "print(classification_report(y_train, y_pred_train))\n",
    "print(\"Accuracy:\",accuracy_score(y_train, y_pred_train)*100)\n"
   ]
  },
  {
   "cell_type": "code",
   "execution_count": 12,
   "metadata": {},
   "outputs": [
    {
     "name": "stdout",
     "output_type": "stream",
     "text": [
      "[[11534  1696]\n",
      " [  932  7499]]\n",
      "              precision    recall  f1-score   support\n",
      "\n",
      "           0       0.93      0.87      0.90     13230\n",
      "           1       0.82      0.89      0.85      8431\n",
      "\n",
      "    accuracy                           0.88     21661\n",
      "   macro avg       0.87      0.88      0.87     21661\n",
      "weighted avg       0.88      0.88      0.88     21661\n",
      "\n",
      "Accuracy: 87.86759614052906\n"
     ]
    }
   ],
   "source": [
    "warnings.filterwarnings('ignore')\n",
    "y_pred_test = [np.argmax(element) for element in y_pred_test]\n",
    "print(confusion_matrix(y_test, y_pred_test))\n",
    "print(classification_report(y_test, y_pred_test))\n",
    "print(\"Accuracy:\",accuracy_score(y_test, y_pred_test)*100)"
   ]
  },
  {
   "cell_type": "code",
   "execution_count": 13,
   "metadata": {},
   "outputs": [],
   "source": [
    "model_slice.save('lstm_slice.h5')"
   ]
  },
  {
   "cell_type": "code",
   "execution_count": null,
   "metadata": {},
   "outputs": [],
   "source": []
  }
 ],
 "metadata": {
  "interpreter": {
   "hash": "5d87b42201e74ac320bc00dce267d44f5f134edfec9046f67f672f289707ff6a"
  },
  "kernelspec": {
   "display_name": "Python 3.7.4 64-bit",
   "language": "python",
   "name": "python3"
  },
  "language_info": {
   "codemirror_mode": {
    "name": "ipython",
    "version": 3
   },
   "file_extension": ".py",
   "mimetype": "text/x-python",
   "name": "python",
   "nbconvert_exporter": "python",
   "pygments_lexer": "ipython3",
   "version": "3.7.4"
  },
  "orig_nbformat": 4
 },
 "nbformat": 4,
 "nbformat_minor": 2
}
